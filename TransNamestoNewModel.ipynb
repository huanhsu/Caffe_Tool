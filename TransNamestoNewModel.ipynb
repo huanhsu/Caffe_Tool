{
 "cells": [
  {
   "cell_type": "code",
   "execution_count": 1,
   "metadata": {
    "collapsed": true
   },
   "outputs": [],
   "source": [
    "import numpy as np\n",
    "import matplotlib.pyplot as plt\n",
    "%matplotlib inline\n",
    "\n",
    "# Make sure that caffe is on the python path:\n",
    "caffe_root = '../'  # this file is expected to be in {caffe_root}/examples\n",
    "import sys\n",
    "sys.path.insert(0, caffe_root + 'python')\n",
    "\n",
    "import caffe\n",
    "\n",
    "#Set Arguments to transform names in original deploy into new_deploy \n",
    "original_deploy = '/home/sreenu/dgd_person_reid/models/res50/cuhk03_256_cam0/deploy.prototxt'\n",
    "original_model = '/home/sreenu/dgd_person_reid/models/res50/cuhk03_256_cam0/result/cuhk03_256_cam0_iter_32237.caffemodel'\n",
    "new_deploy = '/home/sreenu/dgd_person_reid/models/res50/cuhk03_256_cam0_1_concat/deploy_cam0.prototxt'\n",
    "new_model_target_folder = '/home/sreenu/dgd_person_reid/models/res50/cuhk03_256_cam0/result/cuhk03_256_cam0_named_iter_32237.caffemodel'"
   ]
  },
  {
   "cell_type": "code",
   "execution_count": 2,
   "metadata": {
    "collapsed": true
   },
   "outputs": [],
   "source": [
    "# Load the net, list its data and params, and filter an example image.\n",
    "caffe.set_mode_cpu()"
   ]
  },
  {
   "cell_type": "code",
   "execution_count": 3,
   "metadata": {
    "collapsed": true
   },
   "outputs": [],
   "source": [
    "# original model and weight\n",
    "net = caffe.Net(original_deploy, \n",
    "                original_model, \n",
    "                caffe.TEST)\n",
    "params =  [n for n in net._layer_names]"
   ]
  },
  {
   "cell_type": "code",
   "execution_count": 4,
   "metadata": {},
   "outputs": [],
   "source": [
    "#print params"
   ]
  },
  {
   "cell_type": "code",
   "execution_count": 5,
   "metadata": {
    "collapsed": true
   },
   "outputs": [],
   "source": [
    "# new model\n",
    "net_new = caffe.Net(new_deploy,\n",
    "                    caffe.TEST)\n",
    "params_n = [n for n in net_new._layer_names]"
   ]
  },
  {
   "cell_type": "code",
   "execution_count": 6,
   "metadata": {},
   "outputs": [],
   "source": [
    "#print params_p"
   ]
  },
  {
   "cell_type": "code",
   "execution_count": 7,
   "metadata": {},
   "outputs": [],
   "source": [
    "#Loading parameters from original model depends on numbers of data in a layer  \n",
    "for n,n_n in zip(params, params_n):\n",
    "    if n in net.params:\n",
    "        t=net.params[n]\n",
    "        for i in range (0, len(t), 1):\n",
    "            net_new.params[n_n][i].data[...] =net.params[n][i].data[...]"
   ]
  },
  {
   "cell_type": "code",
   "execution_count": 8,
   "metadata": {
    "collapsed": true
   },
   "outputs": [],
   "source": [
    "#save new model\n",
    "net_new.save(new_model_target_folder)"
   ]
  },
  {
   "cell_type": "code",
   "execution_count": null,
   "metadata": {
    "collapsed": true
   },
   "outputs": [],
   "source": []
  }
 ],
 "metadata": {
  "kernelspec": {
   "display_name": "Python 2",
   "language": "python",
   "name": "python2"
  },
  "language_info": {
   "codemirror_mode": {
    "name": "ipython",
    "version": 2
   },
   "file_extension": ".py",
   "mimetype": "text/x-python",
   "name": "python",
   "nbconvert_exporter": "python",
   "pygments_lexer": "ipython2",
   "version": "2.7.6"
  }
 },
 "nbformat": 4,
 "nbformat_minor": 2
}
