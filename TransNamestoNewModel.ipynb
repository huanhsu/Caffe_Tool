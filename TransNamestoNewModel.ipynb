{
 "cells": [
  {
   "cell_type": "code",
   "execution_count": 29,
   "metadata": {
    "collapsed": true
   },
   "outputs": [],
   "source": [
    "import numpy as np\n",
    "import matplotlib.pyplot as plt\n",
    "import os.path as path\n",
    "%matplotlib inline\n",
    "\n",
    "# Make sure that caffe is on the python path:\n",
    "caffe_root = '../'  # this file is expected to be in {caffe_root}/examples\n",
    "import sys\n",
    "sys.path.insert(0, caffe_root + 'python')\n",
    "import caffe\n",
    "\n",
    "#Set Arguments to transform names in original deploy into new_deploy \n",
    "model_root = '/home/sreenu/dgd_person_reid/models/res50/'\n",
    "\n",
    "original_deploy = model_root+'cuhk03_256_cam0/deploy.prototxt'\n",
    "original_model = model_root+'cuhk03_256_cam0/result/cuhk03_256_cam0_named_iter_32237.caffemodel'\n",
    "new_deploy = model_root+'cuhk03_256_cam0_1_concat/deploy_cam0.prototxt'\n",
    "new_model_target_folder = model_root+'cuhk03_256_cam0_1_concat/result/cuhk03_256_cam0.caffemodel'"
   ]
  },
  {
   "cell_type": "code",
   "execution_count": 30,
   "metadata": {},
   "outputs": [
    {
     "name": "stdout",
     "output_type": "stream",
     "text": [
      "exist\n",
      "exist\n",
      "exist\n",
      "exist\n"
     ]
    }
   ],
   "source": [
    "filelist = [original_deploy, original_model, new_deploy, new_model_target_folder]\n",
    "#files cheaker\n",
    "for files in filelist:\n",
    "    if path.isfile(files):\n",
    "        print(\"exist\")\n",
    "    else:\n",
    "        print(\"no such file\")"
   ]
  },
  {
   "cell_type": "code",
   "execution_count": 2,
   "metadata": {
    "collapsed": true
   },
   "outputs": [],
   "source": [
    "# Load the net, list its data and params, and filter an example image.\n",
    "caffe.set_mode_cpu()"
   ]
  },
  {
   "cell_type": "code",
   "execution_count": 3,
   "metadata": {
    "collapsed": true
   },
   "outputs": [],
   "source": [
    "# original model and weight\n",
    "net = caffe.Net(original_deploy, \n",
    "                original_model, \n",
    "                caffe.TEST)\n",
    "params =  [n for n in net._layer_names]"
   ]
  },
  {
   "cell_type": "code",
   "execution_count": 4,
   "metadata": {},
   "outputs": [
    {
     "name": "stdout",
     "output_type": "stream",
     "text": [
      "['input', 'conv1', 'bn_conv1', 'scale_conv1', 'conv1_relu', 'pool1', 'pool1_pool1_0_split', 'res2a_branch1', 'bn2a_branch1', 'scale2a_branch1', 'res2a_branch2a', 'bn2a_branch2a', 'scale2a_branch2a', 'res2a_branch2a_relu', 'res2a_branch2b', 'bn2a_branch2b', 'scale2a_branch2b', 'res2a_branch2b_relu', 'res2a_branch2c', 'bn2a_branch2c', 'scale2a_branch2c', 'res2a', 'res2a_relu', 'res2a_res2a_relu_0_split', 'res2b_branch2a', 'bn2b_branch2a', 'scale2b_branch2a', 'res2b_branch2a_relu', 'res2b_branch2b', 'bn2b_branch2b', 'scale2b_branch2b', 'res2b_branch2b_relu', 'res2b_branch2c', 'bn2b_branch2c', 'scale2b_branch2c', 'res2b', 'res2b_relu', 'res2b_res2b_relu_0_split', 'res2c_branch2a', 'bn2c_branch2a', 'scale2c_branch2a', 'res2c_branch2a_relu', 'res2c_branch2b', 'bn2c_branch2b', 'scale2c_branch2b', 'res2c_branch2b_relu', 'res2c_branch2c', 'bn2c_branch2c', 'scale2c_branch2c', 'res2c', 'res2c_relu', 'res2c_res2c_relu_0_split', 'res3a_branch1', 'bn3a_branch1', 'scale3a_branch1', 'res3a_branch2a', 'bn3a_branch2a', 'scale3a_branch2a', 'res3a_branch2a_relu', 'res3a_branch2b', 'bn3a_branch2b', 'scale3a_branch2b', 'res3a_branch2b_relu', 'res3a_branch2c', 'bn3a_branch2c', 'scale3a_branch2c', 'res3a', 'res3a_relu', 'res3a_res3a_relu_0_split', 'res3b_branch2a', 'bn3b_branch2a', 'scale3b_branch2a', 'res3b_branch2a_relu', 'res3b_branch2b', 'bn3b_branch2b', 'scale3b_branch2b', 'res3b_branch2b_relu', 'res3b_branch2c', 'bn3b_branch2c', 'scale3b_branch2c', 'res3b', 'res3b_relu', 'res3b_res3b_relu_0_split', 'res3c_branch2a', 'bn3c_branch2a', 'scale3c_branch2a', 'res3c_branch2a_relu', 'res3c_branch2b', 'bn3c_branch2b', 'scale3c_branch2b', 'res3c_branch2b_relu', 'res3c_branch2c', 'bn3c_branch2c', 'scale3c_branch2c', 'res3c', 'res3c_relu', 'res3c_res3c_relu_0_split', 'res3d_branch2a', 'bn3d_branch2a', 'scale3d_branch2a', 'res3d_branch2a_relu', 'res3d_branch2b', 'bn3d_branch2b', 'scale3d_branch2b', 'res3d_branch2b_relu', 'res3d_branch2c', 'bn3d_branch2c', 'scale3d_branch2c', 'res3d', 'res3d_relu', 'res3d_res3d_relu_0_split', 'res4a_branch1', 'bn4a_branch1', 'scale4a_branch1', 'res4a_branch2a', 'bn4a_branch2a', 'scale4a_branch2a', 'res4a_branch2a_relu', 'res4a_branch2b', 'bn4a_branch2b', 'scale4a_branch2b', 'res4a_branch2b_relu', 'res4a_branch2c', 'bn4a_branch2c', 'scale4a_branch2c', 'res4a', 'res4a_relu', 'res4a_res4a_relu_0_split', 'res4b_branch2a', 'bn4b_branch2a', 'scale4b_branch2a', 'res4b_branch2a_relu', 'res4b_branch2b', 'bn4b_branch2b', 'scale4b_branch2b', 'res4b_branch2b_relu', 'res4b_branch2c', 'bn4b_branch2c', 'scale4b_branch2c', 'res4b', 'res4b_relu', 'res4b_res4b_relu_0_split', 'res4c_branch2a', 'bn4c_branch2a', 'scale4c_branch2a', 'res4c_branch2a_relu', 'res4c_branch2b', 'bn4c_branch2b', 'scale4c_branch2b', 'res4c_branch2b_relu', 'res4c_branch2c', 'bn4c_branch2c', 'scale4c_branch2c', 'res4c', 'res4c_relu', 'res4c_res4c_relu_0_split', 'res4d_branch2a', 'bn4d_branch2a', 'scale4d_branch2a', 'res4d_branch2a_relu', 'res4d_branch2b', 'bn4d_branch2b', 'scale4d_branch2b', 'res4d_branch2b_relu', 'res4d_branch2c', 'bn4d_branch2c', 'scale4d_branch2c', 'res4d', 'res4d_relu', 'res4d_res4d_relu_0_split', 'res4e_branch2a', 'bn4e_branch2a', 'scale4e_branch2a', 'res4e_branch2a_relu', 'res4e_branch2b', 'bn4e_branch2b', 'scale4e_branch2b', 'res4e_branch2b_relu', 'res4e_branch2c', 'bn4e_branch2c', 'scale4e_branch2c', 'res4e', 'res4e_relu', 'res4e_res4e_relu_0_split', 'res4f_branch2a', 'bn4f_branch2a', 'scale4f_branch2a', 'res4f_branch2a_relu', 'res4f_branch2b', 'bn4f_branch2b', 'scale4f_branch2b', 'res4f_branch2b_relu', 'res4f_branch2c', 'bn4f_branch2c', 'scale4f_branch2c', 'res4f', 'res4f_relu', 'res4f_res4f_relu_0_split', 'res5a_branch1', 'bn5a_branch1', 'scale5a_branch1', 'res5a_branch2a', 'bn5a_branch2a', 'scale5a_branch2a', 'res5a_branch2a_relu', 'res5a_branch2b', 'bn5a_branch2b', 'scale5a_branch2b', 'res5a_branch2b_relu', 'res5a_branch2c', 'bn5a_branch2c', 'scale5a_branch2c', 'res5a', 'res5a_relu', 'res5a_res5a_relu_0_split', 'res5b_branch2a', 'bn5b_branch2a', 'scale5b_branch2a', 'res5b_branch2a_relu', 'res5b_branch2b', 'bn5b_branch2b', 'scale5b_branch2b', 'res5b_branch2b_relu', 'res5b_branch2c', 'bn5b_branch2c', 'scale5b_branch2c', 'res5b', 'res5b_relu', 'res5b_res5b_relu_0_split', 'res5c_branch2a', 'bn5c_branch2a', 'scale5c_branch2a', 'res5c_branch2a_relu', 'res5c_branch2b', 'bn5c_branch2b', 'scale5c_branch2b', 'res5c_branch2b_relu', 'drop_res5c_branch2b', 'res5c_branch2c', 'bn5c_branch2c', 'scale5c_branch2c', 'res5c', 'res5c_relu', 'pool5', 'fc1467']\n"
     ]
    }
   ],
   "source": [
    "print params"
   ]
  },
  {
   "cell_type": "code",
   "execution_count": 5,
   "metadata": {
    "collapsed": true
   },
   "outputs": [],
   "source": [
    "# new model\n",
    "net_new = caffe.Net(new_deploy,\n",
    "                    caffe.TEST)\n",
    "params_n = [n for n in net_new._layer_names]"
   ]
  },
  {
   "cell_type": "code",
   "execution_count": 6,
   "metadata": {},
   "outputs": [
    {
     "name": "stdout",
     "output_type": "stream",
     "text": [
      "['input', 'conv1_cam0', 'bn_conv1_cam0', 'scale_conv1_cam0', 'conv1_relu_cam0', 'pool1_cam0', 'pool1_cam0_pool1_cam0_0_split', 'res2a_branch1_cam0', 'bn2a_branch1_cam0', 'scale2a_branch1_cam0', 'res2a_branch2a_cam0', 'bn2a_branch2a_cam0', 'scale2a_branch2a_cam0', 'res2a_branch2a_relu_cam0', 'res2a_branch2b_cam0', 'bn2a_branch2b_cam0', 'scale2a_branch2b_cam0', 'res2a_branch2b_relu_cam0', 'res2a_branch2c_cam0', 'bn2a_branch2c_cam0', 'scale2a_branch2c_cam0', 'res2a_cam0', 'res2a_relu_cam0', 'res2a_cam0_res2a_relu_cam0_0_split', 'res2b_branch2a_cam0', 'bn2b_branch2a_cam0', 'scale2b_branch2a_cam0', 'res2b_branch2a_relu_cam0', 'res2b_branch2b_cam0', 'bn2b_branch2b_cam0', 'scale2b_branch2b_cam0', 'res2b_branch2b_relu_cam0', 'res2b_branch2c_cam0', 'bn2b_branch2c_cam0', 'scale2b_branch2c_cam0', 'res2b_cam0', 'res2b_relu_cam0', 'res2b_cam0_res2b_relu_cam0_0_split', 'res2c_branch2a_cam0', 'bn2c_branch2a_cam0', 'scale2c_branch2a_cam0', 'res2c_branch2a_relu_cam0', 'res2c_branch2b_cam0', 'bn2c_branch2b_cam0', 'scale2c_branch2b_cam0', 'res2c_branch2b_relu_cam0', 'res2c_branch2c_cam0', 'bn2c_branch2c_cam0', 'scale2c_branch2c_cam0', 'res2c_cam0', 'res2c_relu_cam0', 'res2c_cam0_res2c_relu_cam0_0_split', 'res3a_branch1_cam0', 'bn3a_branch1_cam0', 'scale3a_branch1_cam0', 'res3a_branch2a_cam0', 'bn3a_branch2a_cam0', 'scale3a_branch2a_cam0', 'res3a_branch2a_relu_cam0', 'res3a_branch2b_cam0', 'bn3a_branch2b_cam0', 'scale3a_branch2b_cam0', 'res3a_branch2b_relu_cam0', 'res3a_branch2c_cam0', 'bn3a_branch2c_cam0', 'scale3a_branch2c_cam0', 'res3a_cam0', 'res3a_relu_cam0', 'res3a_cam0_res3a_relu_cam0_0_split', 'res3b_branch2a_cam0', 'bn3b_branch2a_cam0', 'scale3b_branch2a_cam0', 'res3b_branch2a_relu_cam0', 'res3b_branch2b_cam0', 'bn3b_branch2b_cam0', 'scale3b_branch2b_cam0', 'res3b_branch2b_relu_cam0', 'res3b_branch2c_cam0', 'bn3b_branch2c_cam0', 'scale3b_branch2c_cam0', 'res3b_cam0', 'res3b_relu_cam0', 'res3b_cam0_res3b_relu_cam0_0_split', 'res3c_branch2a_cam0', 'bn3c_branch2a_cam0', 'scale3c_branch2a_cam0', 'res3c_branch2a_relu_cam0', 'res3c_branch2b_cam0', 'bn3c_branch2b_cam0', 'scale3c_branch2b_cam0', 'res3c_branch2b_relu_cam0', 'res3c_branch2c_cam0', 'bn3c_branch2c_cam0', 'scale3c_branch2c_cam0', 'res3c_cam0', 'res3c_relu_cam0', 'res3c_cam0_res3c_relu_cam0_0_split', 'res3d_branch2a_cam0', 'bn3d_branch2a_cam0', 'scale3d_branch2a_cam0', 'res3d_branch2a_relu_cam0', 'res3d_branch2b_cam0', 'bn3d_branch2b_cam0', 'scale3d_branch2b_cam0', 'res3d_branch2b_relu_cam0', 'res3d_branch2c_cam0', 'bn3d_branch2c_cam0', 'scale3d_branch2c_cam0', 'res3d_cam0', 'res3d_relu_cam0', 'res3d_cam0_res3d_relu_cam0_0_split', 'res4a_branch1_cam0', 'bn4a_branch1_cam0', 'scale4a_branch1_cam0', 'res4a_branch2a_cam0', 'bn4a_branch2a_cam0', 'scale4a_branch2a_cam0', 'res4a_branch2a_relu_cam0', 'res4a_branch2b_cam0', 'bn4a_branch2b_cam0', 'scale4a_branch2b_cam0', 'res4a_branch2b_relu_cam0', 'res4a_branch2c_cam0', 'bn4a_branch2c_cam0', 'scale4a_branch2c_cam0', 'res4a_cam0', 'res4a_relu_cam0', 'res4a_cam0_res4a_relu_cam0_0_split', 'res4b_branch2a_cam0', 'bn4b_branch2a_cam0', 'scale4b_branch2a_cam0', 'res4b_branch2a_relu_cam0', 'res4b_branch2b_cam0', 'bn4b_branch2b_cam0', 'scale4b_branch2b_cam0', 'res4b_branch2b_relu_cam0', 'res4b_branch2c_cam0', 'bn4b_branch2c_cam0', 'scale4b_branch2c_cam0', 'res4b_cam0', 'res4b_relu_cam0', 'res4b_cam0_res4b_relu_cam0_0_split', 'res4c_branch2a_cam0', 'bn4c_branch2a_cam0', 'scale4c_branch2a_cam0', 'res4c_branch2a_relu_cam0', 'res4c_branch2b_cam0', 'bn4c_branch2b_cam0', 'scale4c_branch2b_cam0', 'res4c_branch2b_relu_cam0', 'res4c_branch2c_cam0', 'bn4c_branch2c_cam0', 'scale4c_branch2c_cam0', 'res4c_cam0', 'res4c_relu_cam0', 'res4c_cam0_res4c_relu_cam0_0_split', 'res4d_branch2a_cam0', 'bn4d_branch2a_cam0', 'scale4d_branch2a_cam0', 'res4d_branch2a_relu_cam0', 'res4d_branch2b_cam0', 'bn4d_branch2b_cam0', 'scale4d_branch2b_cam0', 'res4d_branch2b_relu_cam0', 'res4d_branch2c_cam0', 'bn4d_branch2c_cam0', 'scale4d_branch2c_cam0', 'res4d_cam0', 'res4d_relu_cam0', 'res4d_cam0_res4d_relu_cam0_0_split', 'res4e_branch2a_cam0', 'bn4e_branch2a_cam0', 'scale4e_branch2a_cam0', 'res4e_branch2a_relu_cam0', 'res4e_branch2b_cam0', 'bn4e_branch2b_cam0', 'scale4e_branch2b_cam0', 'res4e_branch2b_relu_cam0', 'res4e_branch2c_cam0', 'bn4e_branch2c_cam0', 'scale4e_branch2c_cam0', 'res4e_cam0', 'res4e_relu_cam0', 'res4e_cam0_res4e_relu_cam0_0_split', 'res4f_branch2a_cam0', 'bn4f_branch2a_cam0', 'scale4f_branch2a_cam0', 'res4f_branch2a_relu_cam0', 'res4f_branch2b_cam0', 'bn4f_branch2b_cam0', 'scale4f_branch2b_cam0', 'res4f_branch2b_relu_cam0', 'res4f_branch2c_cam0', 'bn4f_branch2c_cam0', 'scale4f_branch2c_cam0', 'res4f_cam0', 'res4f_relu_cam0', 'res4f_cam0_res4f_relu_cam0_0_split', 'res5a_branch1_cam0', 'bn5a_branch1_cam0', 'scale5a_branch1_cam0', 'res5a_branch2a_cam0', 'bn5a_branch2a_cam0', 'scale5a_branch2a_cam0', 'res5a_branch2a_relu_cam0', 'res5a_branch2b_cam0', 'bn5a_branch2b_cam0', 'scale5a_branch2b_cam0', 'res5a_branch2b_relu_cam0', 'res5a_branch2c_cam0', 'bn5a_branch2c_cam0', 'scale5a_branch2c_cam0', 'res5a_cam0', 'res5a_relu_cam0', 'res5a_cam0_res5a_relu_cam0_0_split', 'res5b_branch2a_cam0', 'bn5b_branch2a_cam0', 'scale5b_branch2a_cam0', 'res5b_branch2a_relu_cam0', 'res5b_branch2b_cam0', 'bn5b_branch2b_cam0', 'scale5b_branch2b_cam0', 'res5b_branch2b_relu_cam0', 'res5b_branch2c_cam0', 'bn5b_branch2c_cam0', 'scale5b_branch2c_cam0', 'res5b_cam0', 'res5b_relu_cam0', 'res5b_cam0_res5b_relu_cam0_0_split', 'res5c_branch2a_cam0', 'bn5c_branch2a_cam0', 'scale5c_branch2a_cam0', 'res5c_branch2a_relu_cam0', 'res5c_branch2b_cam0', 'bn5c_branch2b_cam0', 'scale5c_branch2b_cam0', 'res5c_branch2b_relu_cam0', 'drop_res5c_branch2b_cam0', 'res5c_branch2c_cam0', 'bn5c_branch2c_cam0', 'scale5c_branch2c_cam0', 'res5c_cam0', 'res5c_relu_cam0', 'pool5_cam0', 'fc1467_cam0']\n"
     ]
    }
   ],
   "source": [
    "print params_n"
   ]
  },
  {
   "cell_type": "code",
   "execution_count": 7,
   "metadata": {
    "collapsed": true
   },
   "outputs": [],
   "source": [
    "#Loading parameters from original model depends on numbers of data in a layer  \n",
    "for n,n_n in zip(params, params_n):\n",
    "    if n in net.params:\n",
    "        t=net.params[n]\n",
    "        for i in range (0, len(t), 1):\n",
    "            net_new.params[n_n][i].data[...] =net.params[n][i].data[...]"
   ]
  },
  {
   "cell_type": "code",
   "execution_count": 8,
   "metadata": {
    "collapsed": true
   },
   "outputs": [],
   "source": [
    "#save new model\n",
    "net_new.save(new_model_target_folder)"
   ]
  },
  {
   "cell_type": "code",
   "execution_count": null,
   "metadata": {
    "collapsed": true
   },
   "outputs": [],
   "source": []
  }
 ],
 "metadata": {
  "kernelspec": {
   "display_name": "Python 2",
   "language": "python",
   "name": "python2"
  },
  "language_info": {
   "codemirror_mode": {
    "name": "ipython",
    "version": 2
   },
   "file_extension": ".py",
   "mimetype": "text/x-python",
   "name": "python",
   "nbconvert_exporter": "python",
   "pygments_lexer": "ipython2",
   "version": "2.7.6"
  }
 },
 "nbformat": 4,
 "nbformat_minor": 2
}
